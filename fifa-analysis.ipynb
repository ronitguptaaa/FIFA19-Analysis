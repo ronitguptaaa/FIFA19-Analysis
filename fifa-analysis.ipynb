{
 "cells": [
  {
   "cell_type": "code",
   "execution_count": 102,
   "metadata": {},
   "outputs": [],
   "source": [
    "import pandas as pd\n",
    "from pyspark.sql import SparkSession\n",
    "import numpy as np\n",
    "from pyspark.sql.functions import col, udf, regexp_replace\n",
    "from pyspark.sql.types import IntegerType, DoubleType\n",
    "\n",
    "spark = SparkSession.builder.appName(\"FIFA\").getOrCreate()"
   ]
  },
  {
   "cell_type": "code",
   "execution_count": 103,
   "metadata": {},
   "outputs": [],
   "source": [
    "df = spark.read.csv('FIFA19.csv', header=True)"
   ]
  },
  {
   "cell_type": "code",
   "execution_count": 104,
   "metadata": {},
   "outputs": [],
   "source": [
    "df = df.withColumn('ID', col('ID').cast('Integer')) \\\n",
    "       .withColumn('Name', col('Name').cast('String')) \\\n",
    "       .withColumn('Age', col('Age').cast('Integer')) \\\n",
    "       .withColumn('Nationality', col('Nationality').cast('String')) \\\n",
    "       .withColumn('Overall', col('Overall').cast('Integer')) \\\n",
    "       .withColumn('Potential', col('Potential').cast('Integer')) \\\n",
    "       .withColumn('Club', col('Club').cast('String')) \\\n",
    "       .withColumn('Value', col('Value').cast('String')) \\\n",
    "       .withColumn('Wage', col('Wage').cast('String')) \\\n",
    "       .withColumn('Preferred Foot', col('Preferred Foot').cast('String')) \\\n",
    "       .withColumn('Body Type', col('Body Type').cast('String')) \\\n",
    "       .withColumn('Position', col('Position').cast('String')) \\\n",
    "       .withColumn('Height', col('Height').cast('String')) \\\n",
    "       .withColumn('Weight', col('Weight').cast('String'))\n",
    "       \n",
    "df = df.select(\"ID\",\n",
    "               \"Name\", \n",
    "               \"Age\", \n",
    "               \"Nationality\",\n",
    "               \"Overall\", \n",
    "               \"Club\",\n",
    "               \"Value\", \n",
    "               \"Wage\",\n",
    "               \"Preferred Foot\",\n",
    "               \"Weak Foot\",\n",
    "               \"Body Type\",\n",
    "               \"Position\", \n",
    "               \"Jersey Number\", \n",
    "               \"Joined\",\n",
    "               \"Height\", \n",
    "               \"Weight\",\n",
    "               \"Crossing\", \n",
    "               \"Finishing\", \n",
    "               \"HeadingAccuracy\", \n",
    "               \"ShortPassing\", \n",
    "               \"Volleys\", \n",
    "               \"Dribbling\", \n",
    "               \"Curve\", \n",
    "               \"FKAccuracy\", \n",
    "               \"LongPassing\", \n",
    "               \"BallControl\", \n",
    "               \"Acceleration\", \n",
    "               \"SprintSpeed\", \n",
    "               \"Agility\", \n",
    "               \"Reactions\", \n",
    "               \"Balance\", \n",
    "               \"ShotPower\", \n",
    "               \"Jumping\", \n",
    "               \"Stamina\", \n",
    "               \"Strength\", \n",
    "               \"LongShots\", \n",
    "               \"Aggression\", \n",
    "               \"Interceptions\", \n",
    "               \"Positioning\", \n",
    "               \"Vision\", \n",
    "               \"Penalties\", \n",
    "               \"Composure\", \n",
    "               \"Marking\", \n",
    "               \"StandingTackle\", \n",
    "               \"SlidingTackle\", \n",
    "               \"GKDiving\", \n",
    "               \"GKHandling\", \n",
    "               \"GKKicking\", \n",
    "               \"GKPositioning\", \n",
    "               \"GKReflexes\", \n",
    "               \"Release Clause\")"
   ]
  },
  {
   "cell_type": "code",
   "execution_count": 105,
   "metadata": {},
   "outputs": [],
   "source": [
    "def convert_money(Value):\n",
    "    if Value is None:\n",
    "        return None\n",
    "    Value = Value.replace('€', '')\n",
    "    if 'K' in Value:\n",
    "        return int(float(Value.replace('K', '')) * 1000)\n",
    "    elif 'M' in Value:\n",
    "        return int(float(Value.replace('M', '')) * 1000000)\n",
    "    else:\n",
    "        return int(Value)\n",
    "\n",
    "convert_money_udf = udf(convert_money, IntegerType())\n",
    "\n",
    "def convert_height(height):\n",
    "    if height is None:\n",
    "        return None\n",
    "    feet, inches = height.split(\"'\")\n",
    "    feet = int(feet)\n",
    "    inches = int(inches.replace('\"', ''))\n",
    "    total_inches = feet * 12 + inches\n",
    "    return round(total_inches * 2.54, 2) \n",
    "\n",
    "convert_height_udf = udf(convert_height, DoubleType())"
   ]
  },
  {
   "cell_type": "code",
   "execution_count": 106,
   "metadata": {},
   "outputs": [],
   "source": [
    "df = df.withColumn('Value', convert_money_udf(col('Value'))) \\\n",
    "       .withColumn('Wage', convert_money_udf(col('Wage'))) \\\n",
    "       .withColumn('Weight', regexp_replace(col('Weight'), 'lbs', '')) \\\n",
    "       .withColumn('Height', convert_height_udf(col('Height'))) \\\n",
    "       .withColumn('Release Clause', convert_money_udf(col('Release Clause')))"
   ]
  },
  {
   "cell_type": "code",
   "execution_count": 107,
   "metadata": {},
   "outputs": [
    {
     "name": "stdout",
     "output_type": "stream",
     "text": [
      "+-----+---------------+---+-------------------+-------+--------------------+--------+------+--------------+---------+---------+--------+-------------+------------+------+------+--------+---------+---------------+------------+-------+---------+-----+----------+-----------+-----------+------------+-----------+-------+---------+-------+---------+-------+-------+--------+---------+----------+-------------+-----------+------+---------+---------+-------+--------------+-------------+--------+----------+---------+-------------+----------+--------------+\n",
      "|   ID|           Name|Age|        Nationality|Overall|                Club|   Value|  Wage|Preferred Foot|Weak Foot|Body Type|Position|Jersey Number|      Joined|Height|Weight|Crossing|Finishing|HeadingAccuracy|ShortPassing|Volleys|Dribbling|Curve|FKAccuracy|LongPassing|BallControl|Acceleration|SprintSpeed|Agility|Reactions|Balance|ShotPower|Jumping|Stamina|Strength|LongShots|Aggression|Interceptions|Positioning|Vision|Penalties|Composure|Marking|StandingTackle|SlidingTackle|GKDiving|GKHandling|GKKicking|GKPositioning|GKReflexes|Release Clause|\n",
      "+-----+---------------+---+-------------------+-------+--------------------+--------+------+--------------+---------+---------+--------+-------------+------------+------+------+--------+---------+---------------+------------+-------+---------+-----+----------+-----------+-----------+------------+-----------+-------+---------+-------+---------+-------+-------+--------+---------+----------+-------------+-----------+------+---------+---------+-------+--------------+-------------+--------+----------+---------+-------------+----------+--------------+\n",
      "|   16|    Luis García| 37|              Spain|     71|           KAS Eupen|  750000|  6000|         Right|        4|     Lean|     RCM|           10|Jul 19, 2014| 177.8|   143|      68|       64|             61|          76|     68|       69|   79|        79|         71|         71|          56|         50|     62|       65|     72|       75|     54|     64|      60|       71|        71|           71|         72|    73|       75|       79|     70|            43|           40|       9|        12|       13|           11|        11|       1100000|\n",
      "|   41|        Iniesta| 34|              Spain|     86|         Vissel Kobe|21500000| 21000|         Right|        4|   Normal|      LF|            8|Jul 16, 2018|170.18|   150|      77|       70|             54|          90|     74|       90|   80|        70|         85|         92|          70|         67|     79|       86|     84|       65|     47|     55|      58|       71|        58|           66|         81|    93|       71|       89|     67|            57|           56|       6|        13|        6|           13|         7|      26900000|\n",
      "|   80|   E. Belözoğlu| 37|             Turkey|     79|Medipol Başakşehi...| 4000000| 23000|          Left|        4|   Stocky|      CM|            5| Jul 9, 2015|170.18|   159|      80|       68|             43|          86|     69|       78|   83|        80|         87|         82|          54|         38|     68|       73|     81|       77|     72|     61|      65|       76|        87|           66|         63|    86|       85|       80|     65|            67|           60|       7|        11|        7|           14|         8|       7600000|\n",
      "|  164|       G. Pinzi| 37|              Italy|     70|              Padova|  240000|  2000|         Right|        3|   Normal|     LCM|           11|Aug 31, 2017|180.34|   168|      63|       53|             62|          69|     61|       66|   58|        54|         64|         67|          65|         62|     69|       67|     63|       71|     69|     74|      67|       65|        75|           70|         61|    65|       65|       68|     74|            71|           66|       5|        15|        7|            6|        13|        372000|\n",
      "|  657|     D. Vaughan| 35|              Wales|     66|        Notts County|  150000|  4000|          Left|        3|   Stocky|     CDM|            8| Jul 6, 2018|167.64|   154|      64|       59|             58|          72|     57|       62|   68|        67|         68|         68|          33|         33|     60|       67|     91|       70|     60|     50|      58|       66|        74|           63|         55|    64|       66|       82|     59|            66|           62|       6|         9|       10|            9|         7|        263000|\n",
      "|  768|         Felipe| 33|             Brazil|     75|                SPAL| 2700000| 13000|          Left|        3|     Lean|     LCB|           27| Jul 4, 2017|187.96|   165|      34|       20|             74|          62|     19|       44|   49|        21|         64|         60|          38|         41|     49|       72|     63|       68|     69|     48|      67|       40|        70|           81|         29|    46|       35|       68|     77|            80|           76|      11|         6|        8|            9|         5|       4900000|\n",
      "| 1179|      G. Buffon| 40|              Italy|     88| Paris Saint-Germain| 4000000| 77000|         Right|        2|   Normal|      GK|            1| Jul 6, 2018|193.04|   203|      13|       15|             13|          37|     17|       26|   20|        13|         35|         28|          49|         43|     55|       79|     49|       39|     75|     39|      69|       13|        38|           28|         12|    50|       22|       70|     13|            11|           11|      88|        87|       74|           90|        83|       7400000|\n",
      "| 2147|M. Stekelenburg| 35|        Netherlands|     73|             Everton|  950000| 30000|         Right|        4|     Lean|      GK|           22| Jul 4, 2016|198.12|   203|      18|       11|             14|          39|     11|       12|   13|        13|         37|         31|          30|         36|     30|       72|     27|       13|     55|     30|      77|       11|        41|           26|         12|    40|       23|       59|      9|            15|           14|      71|        72|       76|           73|        73|       1800000|\n",
      "| 2335|   A. Wilbraham| 38|            England|     63|            Rochdale|  130000|  1000|         Right|        3|   Normal|      ST|           18| Jul 1, 2018| 190.5|   159|      49|       62|             75|          68|     56|       49|   48|        42|         41|         63|          35|         40|     35|       67|     51|       60|     66|     34|      82|       47|        83|           26|         69|    68|       68|       69|     24|            20|           19|      12|        13|       10|           10|         9|        228000|\n",
      "| 2702|     K. Ellison| 39|            England|     57|           Morecambe|   30000|  1000|          Left|        3|   Normal|      LM|           11| Jul 1, 2011|180.34|   168|      59|       60|             61|          54|     63|       65|   63|        62|         47|         61|          45|         42|     62|       60|     66|       69|     67|     55|      82|       67|        75|           53|         62|    61|       60|       71|     41|            36|           34|       7|        11|        6|           14|         6|         53000|\n",
      "| 3281|      Tarantini| 34|           Portugal|     75|          Rio Ave FC| 3200000| 10000|         Right|        3|     Lean|     RCM|            8| Jul 1, 2008|187.96|   172|      62|       64|             77|          78|     69|       71|   65|        57|         73|         75|          51|         52|     57|       78|     52|       75|     69|     54|      78|       73|        75|           76|         72|    77|       66|       82|     72|            71|           59|      12|         6|       16|            7|        16|       6800000|\n",
      "| 3484|      J. O'Shea| 37|Republic of Ireland|     69|             Reading|  140000| 10000|         Right|        3|   Normal|      CB|            4| Jul 1, 2018| 190.5|   185|      53|       29|             72|          60|     32|       46|   51|        35|         57|         60|          29|         32|     49|       63|     54|       49|     57|     30|      77|       23|        64|           71|         32|    55|       47|       69|     72|            70|           68|       9|        14|       13|           10|        14|        266000|\n",
      "| 3665|       B. Nivet| 41|             France|     71|        ESTAC Troyes|       0|  5000|         Right|        3|   Normal|     CAM|           10| Jul 1, 2012| 177.8|   165|      67|       69|             58|          75|     67|       68|   73|        71|         72|         76|          39|         40|     59|       70|     67|       75|     30|     41|      56|       72|        58|           54|         65|    83|       76|       82|     58|            56|           43|      11|         7|        8|           14|         7|          NULL|\n",
      "| 5479|       Casillas| 37|              Spain|     82|            FC Porto| 1500000| 10000|          Left|        2|   Normal|      GK|            1|Jul 12, 2015|185.42|   185|      13|       12|             25|          21|     14|       25|   25|        13|         22|         23|          59|         57|     62|       77|     46|       28|     77|     43|      70|       13|        23|           22|         16|    65|       24|       70|     24|            11|           13|      87|        74|       58|           82|        84|       3000000|\n",
      "| 6826|       G. Barry| 37|            England|     72|West Bromwich Albion|  425000| 16000|          Left|        3|   Normal|     CDM|           18|Aug 15, 2017|182.88|   172|      75|       56|             69|          76|     63|       68|   76|        71|         71|         76|          30|         33|     43|       71|     60|       74|     70|     47|      74|       69|        74|           68|         58|    68|       72|       81|     80|            73|           65|       7|        13|        9|            7|        12|        808000|\n",
      "| 7647|    D. Dainelli| 39|              Italy|     73|             Livorno|  270000|  2000|         Right|        3|     Lean|      CB|            3|Jul 16, 2018| 190.5|   172|      28|       22|             73|          56|     19|       52|   40|        31|         64|         55|          30|         33|     30|       70|     34|       69|     74|     32|      79|       31|        69|           83|         16|    25|       30|       75|     73|            76|           70|       6|        12|       14|           13|        10|        419000|\n",
      "| 8205|          Braga| 35|           Portugal|     70|             CD Aves|  750000|  5000|         Right|        4|   Normal|     LCM|            8| Jul 1, 2017|180.34|   165|      72|       64|             54|          75|     74|       72|   70|        61|         72|         75|          48|         49|     62|       63|     62|       82|     56|     54|      72|       77|        67|           54|         71|    72|       74|       80|     55|            56|           38|      15|        15|       13|            8|         6|       1600000|\n",
      "| 9014|      A. Robben| 34|        Netherlands|     84|   FC Bayern München|15500000|110000|          Left|        2|   Normal|      RM|           10|Aug 28, 2009|180.34|   176|      80|       85|             51|          82|     86|       89|   90|        81|         71|         88|          83|         76|     87|       85|     90|       86|     60|     64|      67|       86|        47|           37|         84|    80|       78|       85|     30|            26|           26|      10|         8|       11|            5|        15|      25600000|\n",
      "| 9833|        D. Boer| 37|        Netherlands|     69|          PEC Zwolle|   70000|  3000|         Right|        3|   Stocky|      GK|            1| Jul 1, 2017|193.04|   196|      15|       11|             11|          46|     14|       14|   12|        12|         43|         29|          31|         43|     36|       66|     41|       28|     45|     32|      64|       16|        37|           23|         14|    47|       46|       55|     12|            13|           12|      64|        72|       52|           77|        64|        102000|\n",
      "|10466|    S. Ishizaki| 36|             Sweden|     67|         IF Elfsborg|  240000|  2000|         Right|        3|   Normal|      RM|           24| Jan 8, 2018|180.34|   179|      72|       59|             48|          69|     66|       68|   74|        69|         71|         70|          64|         57|     73|       68|     72|       66|     60|     61|      69|       68|        43|           43|         66|    69|       68|       69|     65|            51|           38|       6|        13|        6|           10|        11|        300000|\n",
      "+-----+---------------+---+-------------------+-------+--------------------+--------+------+--------------+---------+---------+--------+-------------+------------+------+------+--------+---------+---------------+------------+-------+---------+-----+----------+-----------+-----------+------------+-----------+-------+---------+-------+---------+-------+-------+--------+---------+----------+-------------+-----------+------+---------+---------+-------+--------------+-------------+--------+----------+---------+-------------+----------+--------------+\n",
      "only showing top 20 rows\n",
      "\n"
     ]
    }
   ],
   "source": [
    "df.show()"
   ]
  }
 ],
 "metadata": {
  "kernelspec": {
   "display_name": ".venv",
   "language": "python",
   "name": "python3"
  },
  "language_info": {
   "codemirror_mode": {
    "name": "ipython",
    "version": 3
   },
   "file_extension": ".py",
   "mimetype": "text/x-python",
   "name": "python",
   "nbconvert_exporter": "python",
   "pygments_lexer": "ipython3",
   "version": "3.9.16"
  }
 },
 "nbformat": 4,
 "nbformat_minor": 2
}
